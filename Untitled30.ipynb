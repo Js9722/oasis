{
 "cells": [
  {
   "cell_type": "code",
   "execution_count": 1,
   "id": "41a93beb",
   "metadata": {},
   "outputs": [],
   "source": [
    "import random"
   ]
  },
  {
   "cell_type": "code",
   "execution_count": 2,
   "id": "128575b5",
   "metadata": {},
   "outputs": [
    {
     "name": "stdout",
     "output_type": "stream",
     "text": [
      "\n",
      "Welcome to password generator\n"
     ]
    }
   ],
   "source": [
    "print(\"\\nWelcome to password generator\")\n",
    "upperCase = ['A', 'B', 'C', 'D', 'E', 'F', 'G', 'H', 'I', 'J', 'K','L', 'M', 'N', 'O', 'P', 'Q', 'R', 'S', 'T', 'U', 'V', 'W', 'X', 'Y', 'Z']\n",
    "lowerCase = ['a', 'b', 'c', 'd', 'e', 'f', 'g', 'h', 'i', 'j', 'k', 'l', 'm', 'n', 'o', 'p','q', 'r', 's', 't', 'u', 'v', 'w', 'x', 'y', 'z']\n",
    "numbers = [0, 1, 2, 3, 4, 5, 6, 7, 8, 9]\n",
    "specialChar = ['!', '\"', '#', '$', '%', '&', \"'\", '(', ')', '*', '+', ',', '-', '.', '/', ':', ';', '<', '=', '>', '?', '@', '[', '\\\\', ']', '^', '_', '`', '{', '|', '}', '~']\n",
    "\n",
    "password = []"
   ]
  },
  {
   "cell_type": "code",
   "execution_count": 3,
   "id": "4900e353",
   "metadata": {},
   "outputs": [
    {
     "name": "stdout",
     "output_type": "stream",
     "text": [
      "What is your password length?8\n",
      "****You can add uppercase letters, lowercase letters, numbers and special characters****\n",
      "\n",
      "How many uppercase letters do you need? 2\n",
      "How many lowercase letters do you need? 5\n",
      "How many numbers do you need? 1\n",
      "How many special characters do you need? 0\n",
      "Your new password is Pa7hAlzk\n"
     ]
    }
   ],
   "source": [
    "while True:\n",
    "    passwordLength = int(input(\"What is your password length?\"))\n",
    "    print(\"****You can add uppercase letters, lowercase letters, numbers and special characters****\\n\")\n",
    "    upCaseFlag = int(input(\"How many uppercase letters do you need? \"))\n",
    "    loCaseFlag = int(input(\"How many lowercase letters do you need? \"))\n",
    "    numFlag = int(input(\"How many numbers do you need? \"))\n",
    "    charFlag = int(input(\"How many special characters do you need? \"))\n",
    "    if(upCaseFlag + loCaseFlag + numFlag + charFlag == passwordLength):\n",
    "        while(upCaseFlag):\n",
    "            password.append(random.choice(upperCase))\n",
    "            upCaseFlag-=1\n",
    "        while(loCaseFlag):\n",
    "            password.append(random.choice(lowerCase))\n",
    "            loCaseFlag-=1\n",
    "        while(numFlag):\n",
    "            password.append(random.choice(numbers))\n",
    "            numFlag-=1\n",
    "        while(charFlag):\n",
    "            password.append(random.choice(specialChar))\n",
    "            charFlag-=1\n",
    "        break\n",
    "    else:\n",
    "        print(\"Wrong inputs. The sum of character counts should equal the password length.\")\n",
    "\n",
    "random.shuffle(password)\n",
    "final_password = \"\"\n",
    "for char in password:\n",
    "    final_password+=str(char)\n",
    "\n",
    "print(f\"Your new password is {final_password}\")"
   ]
  },
  {
   "cell_type": "code",
   "execution_count": null,
   "id": "294a655b",
   "metadata": {},
   "outputs": [],
   "source": []
  }
 ],
 "metadata": {
  "kernelspec": {
   "display_name": "Python 3 (ipykernel)",
   "language": "python",
   "name": "python3"
  },
  "language_info": {
   "codemirror_mode": {
    "name": "ipython",
    "version": 3
   },
   "file_extension": ".py",
   "mimetype": "text/x-python",
   "name": "python",
   "nbconvert_exporter": "python",
   "pygments_lexer": "ipython3",
   "version": "3.11.5"
  }
 },
 "nbformat": 4,
 "nbformat_minor": 5
}
