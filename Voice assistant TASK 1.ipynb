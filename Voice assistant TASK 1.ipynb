{
 "cells": [
  {
   "cell_type": "code",
   "execution_count": 1,
   "id": "6ade75e9",
   "metadata": {},
   "outputs": [],
   "source": [
    "import pyaudio\n",
    "\n"
   ]
  },
  {
   "cell_type": "code",
   "execution_count": 2,
   "id": "7dedd4ba",
   "metadata": {},
   "outputs": [],
   "source": [
    "import pyttsx3"
   ]
  },
  {
   "cell_type": "code",
   "execution_count": 3,
   "id": "8c1bc2d9",
   "metadata": {},
   "outputs": [],
   "source": [
    "import datetime"
   ]
  },
  {
   "cell_type": "code",
   "execution_count": 4,
   "id": "2b02a533",
   "metadata": {},
   "outputs": [],
   "source": [
    "import wikipedia\n",
    "import webbrowser\n",
    "import os\n",
    "import speech_recognition as sr\n",
    "\n",
    "\n",
    "\n"
   ]
  },
  {
   "cell_type": "code",
   "execution_count": 5,
   "id": "1666b585",
   "metadata": {},
   "outputs": [],
   "source": [
    "engine = pyttsx3.init('sapi5')\n",
    "voices = engine.getProperty('voices')\n",
    "engine.setProperty('voice', voices[1].id)"
   ]
  },
  {
   "cell_type": "code",
   "execution_count": 6,
   "id": "155b4c01",
   "metadata": {},
   "outputs": [],
   "source": [
    "def speak(audio):\n",
    "        engine.say(audio)\n",
    "        engine.runAndWait()"
   ]
  },
  {
   "cell_type": "code",
   "execution_count": 7,
   "id": "518dcc75",
   "metadata": {},
   "outputs": [],
   "source": [
    "def greet():\n",
    "        hour = int(datetime.datetime.now().hour)\n",
    "        print(hour)\n",
    "        if hour>= 0 and hour<12:\n",
    "            speak(\"Good Morning !\")\n",
    "        elif hour>= 12 and hour<18:\n",
    "            speak(\"Good Afternoon !\") \n",
    "        else:\n",
    "            speak(\"Good Evening !\") \n",
    "        speak(\"Welcome , I am your personal google assistant\")"
   ]
  },
  {
   "cell_type": "code",
   "execution_count": 8,
   "id": "8ff3a67b",
   "metadata": {},
   "outputs": [],
   "source": [
    "def VoiceCommand(): \n",
    "        r = sr.Recognizer() \n",
    "        with sr.Microphone() as source:\n",
    "            \n",
    "            print(\"Listening...\")\n",
    "            r.pause_threshold = 1\n",
    "            audio = r.listen(source) \n",
    "        try:\n",
    "            print(\"Recognizing...\")   \n",
    "            query= r.recognize_google(audio, language ='en-in')\n",
    "            print(f\"User said: {query}\\n\")\n",
    "            \n",
    "        except Exception as e:\n",
    "            print(e)   \n",
    "            print(\"Unable to Recognize your voice.\") \n",
    "            return \"None\" \n",
    "        return query\n"
   ]
  },
  {
   "cell_type": "code",
   "execution_count": null,
   "id": "1c6f477c",
   "metadata": {},
   "outputs": [
    {
     "name": "stdout",
     "output_type": "stream",
     "text": [
      "14\n",
      "Listening...\n",
      "Recognizing...\n",
      "User said: open Google\n",
      "\n",
      "Listening...\n",
      "Recognizing...\n",
      "User said: exit\n",
      "\n",
      "Listening...\n",
      "Recognizing...\n",
      "User said: stop listening\n",
      "\n",
      "Listening...\n",
      "Recognizing...\n",
      "\n",
      "Unable to Recognize your voice.\n",
      "Listening...\n"
     ]
    }
   ],
   "source": [
    " if __name__ == '__main__':\n",
    "        greet()\n",
    "        while True: \n",
    "            work = VoiceCommand().lower()\n",
    "            if 'hello' in work:\n",
    "                speak('hi , how can i help you')\n",
    "            \n",
    "            if \"wikipedia\" in work:\n",
    "                speak(\"Searching wikipedia...\")\n",
    "                work = work.replace(\"wikipedia\", \"\")\n",
    "                results = wikipedia.summary(work,sentences =5)\n",
    "                speak(\"According to wikipedia\")\n",
    "                print(results)\n",
    "                speak(results)\n",
    "                \n",
    "            elif 'open notepad' in work:\n",
    "                speak('opening notepad for you.......')\n",
    "                path = (\"c:\\\\windows\\\\system32\\\\notepad.exe\")\n",
    "                os.startfile(path)\n",
    "                \n",
    "            elif 'close notepad' in work:\n",
    "                speak('closing notepad wait.....')\n",
    "                os.system('c:\\\\windows\\\\system32\\\\taskkill.exe /F /IM notepad.exe')\n",
    "\n",
    "            elif 'open youtube' in work:\n",
    "                speak(\"Here you go to Youtube\\n\")\n",
    "                webbrowser.open(\"https://www.youtube.com/\")\n",
    "    \n",
    "            elif 'open google' in work:\n",
    "                speak(\"Here you go to Google\\n\")\n",
    "                webbrowser.open(\"https://www.google.co.in/\")\n",
    "            \n",
    "            elif 'play music' in work :\n",
    "                speak('opening music player....')\n",
    "                path = (\"C:\\\\Program Files (x86)\\\\Windows Media Player\\\\wmplayer.exe\")\n",
    "                os.startfile(path)\n",
    "                \n",
    "            elif 'open mail' in work:\n",
    "                speak(\"Here you go to mail\\n\")\n",
    "                webbrowser.open(\"https://mail.google.com/mail/u/0/#inbox\")\n",
    "            \n",
    "            elif 'exit' in work:\n",
    "                speak(\"Thanks for giving me your time ..... have a nice day....\")\n",
    "                exit()\n",
    "    \n",
    "        \n",
    "        \n",
    "        \n",
    "                "
   ]
  },
  {
   "cell_type": "code",
   "execution_count": null,
   "id": "ec32bcd1",
   "metadata": {},
   "outputs": [],
   "source": []
  },
  {
   "cell_type": "code",
   "execution_count": null,
   "id": "b9979af1",
   "metadata": {},
   "outputs": [],
   "source": []
  }
 ],
 "metadata": {
  "kernelspec": {
   "display_name": "Python 3 (ipykernel)",
   "language": "python",
   "name": "python3"
  },
  "language_info": {
   "codemirror_mode": {
    "name": "ipython",
    "version": 3
   },
   "file_extension": ".py",
   "mimetype": "text/x-python",
   "name": "python",
   "nbconvert_exporter": "python",
   "pygments_lexer": "ipython3",
   "version": "3.10.9"
  }
 },
 "nbformat": 4,
 "nbformat_minor": 5
}
